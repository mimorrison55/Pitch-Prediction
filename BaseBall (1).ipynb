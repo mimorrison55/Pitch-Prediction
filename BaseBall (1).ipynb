{
  "nbformat": 4,
  "nbformat_minor": 0,
  "metadata": {
    "colab": {
      "provenance": []
    },
    "kernelspec": {
      "name": "python3",
      "display_name": "Python 3"
    },
    "language_info": {
      "name": "python"
    }
  },
  "cells": [
    {
      "cell_type": "code",
      "execution_count": null,
      "metadata": {
        "id": "e9uagXx9-r30"
      },
      "outputs": [],
      "source": [
        "### LSTM TO PRODICT PITCHCES\n",
        "# _imports__\n",
        "import numpy as np\n",
        "import tensorflow as tf\n",
        "from tensorflow.keras.models import Sequential\n",
        "from tensorflow.keras.layers import Dense\n",
        "from tensorflow.keras.layers import Dropout\n",
        "from tensorflow.keras.layers import LSTM\n",
        "from tensorflow.keras.callbacks import ModelCheckpoint\n",
        "from tensorflow.keras.utils import to_categorical\n",
        "from tensorflow.keras import Input\n",
        "from tensorflow.keras import Model\n",
        "\n",
        "\n",
        "from sklearn.preprocessing import LabelEncoder\n",
        "from sklearn.model_selection import train_test_split\n",
        "\n",
        "import matplotlib.pyplot as plt\n",
        "\n",
        "import tensorflow.keras as kb\n",
        "\n",
        "import pandas as pd"
      ]
    },
    {
      "cell_type": "code",
      "source": [
        "## DATA IMPORT\n",
        "# a ton of data here\n",
        "!unzip -qq BaseBall-Data_2.zip"
      ],
      "metadata": {
        "id": "JBFCuAP6-4IG"
      },
      "execution_count": null,
      "outputs": []
    },
    {
      "cell_type": "code",
      "source": [
        "## SCONDARY IMPORTS\n",
        "import pandas as pd\n",
        "\n",
        "atbats = pd.read_csv(\"BaseBall-Data/atbats.csv\")\n",
        "#games = pd.read_csv(\"BaseBall-Data/games.csv\")\n",
        "pitches = pd.read_csv(\"BaseBall-Data/pitches.csv\")"
      ],
      "metadata": {
        "id": "fUVXSMJ-GgF-"
      },
      "execution_count": null,
      "outputs": []
    },
    {
      "cell_type": "code",
      "source": [
        "## DATA CLEANING\n",
        "# slim down pitches to only 1 year-ish\n",
        "pitchesSlim = pitches.head(pitches.shape[0])\n",
        "#games = games.head(games.shape[0])\n",
        "atbatsSlim = atbats.head(atbats.shape[0])\n",
        "\n",
        "#delete rows\n",
        "# pitches -- complete --\n",
        "pitchesSlim = pitchesSlim.drop(columns = ['px','pz','start_speed','end_speed','spin_rate','spin_dir','break_angle','break_length','break_y'])\n",
        "pitchesSlim = pitchesSlim.drop(columns = ['ax','ay','az','sz_bot','sz_top','type_confidence','vx0','vy0','vz0', 'x'])\n",
        "pitchesSlim = pitchesSlim.drop(columns = ['x0','y','y0','z0','pfx_x','pfx_z','nasty','zone','code'])\n",
        "\n",
        "# add spacers to the at bat\n",
        "#fullAtbats = atbats.loc[atbats.index.repeat()].reset_index(drop=True)\n",
        "fullAtbats = atbatsSlim.merge(pitchesSlim, on = 'ab_id')\n",
        "fullAtbats = fullAtbats.drop(columns=['event', 'stand', 'p_throws', 'type'])\n"
      ],
      "metadata": {
        "id": "HUaCXQ2E-6Vz"
      },
      "execution_count": null,
      "outputs": []
    },
    {
      "cell_type": "code",
      "source": [
        "## find specific players\n",
        "names = pd.read_csv(\"BaseBall-Data/player_names.csv\")\n",
        "\n",
        "my_guy = names[names['last_name'] == 'Darvish']\n",
        "my_guy"
      ],
      "metadata": {
        "colab": {
          "base_uri": "https://localhost:8080/",
          "height": 81
        },
        "id": "_Gz_k4j9p44v",
        "outputId": "4244d849-4e40-4fe0-b030-4e9b76509785"
      },
      "execution_count": null,
      "outputs": [
        {
          "output_type": "execute_result",
          "data": {
            "text/plain": [
              "         id first_name last_name\n",
              "815  506433         Yu   Darvish"
            ],
            "text/html": [
              "\n",
              "  <div id=\"df-5cb4d339-5e41-4e45-9adb-5e3207e815a8\" class=\"colab-df-container\">\n",
              "    <div>\n",
              "<style scoped>\n",
              "    .dataframe tbody tr th:only-of-type {\n",
              "        vertical-align: middle;\n",
              "    }\n",
              "\n",
              "    .dataframe tbody tr th {\n",
              "        vertical-align: top;\n",
              "    }\n",
              "\n",
              "    .dataframe thead th {\n",
              "        text-align: right;\n",
              "    }\n",
              "</style>\n",
              "<table border=\"1\" class=\"dataframe\">\n",
              "  <thead>\n",
              "    <tr style=\"text-align: right;\">\n",
              "      <th></th>\n",
              "      <th>id</th>\n",
              "      <th>first_name</th>\n",
              "      <th>last_name</th>\n",
              "    </tr>\n",
              "  </thead>\n",
              "  <tbody>\n",
              "    <tr>\n",
              "      <th>815</th>\n",
              "      <td>506433</td>\n",
              "      <td>Yu</td>\n",
              "      <td>Darvish</td>\n",
              "    </tr>\n",
              "  </tbody>\n",
              "</table>\n",
              "</div>\n",
              "    <div class=\"colab-df-buttons\">\n",
              "\n",
              "  <div class=\"colab-df-container\">\n",
              "    <button class=\"colab-df-convert\" onclick=\"convertToInteractive('df-5cb4d339-5e41-4e45-9adb-5e3207e815a8')\"\n",
              "            title=\"Convert this dataframe to an interactive table.\"\n",
              "            style=\"display:none;\">\n",
              "\n",
              "  <svg xmlns=\"http://www.w3.org/2000/svg\" height=\"24px\" viewBox=\"0 -960 960 960\">\n",
              "    <path d=\"M120-120v-720h720v720H120Zm60-500h600v-160H180v160Zm220 220h160v-160H400v160Zm0 220h160v-160H400v160ZM180-400h160v-160H180v160Zm440 0h160v-160H620v160ZM180-180h160v-160H180v160Zm440 0h160v-160H620v160Z\"/>\n",
              "  </svg>\n",
              "    </button>\n",
              "\n",
              "  <style>\n",
              "    .colab-df-container {\n",
              "      display:flex;\n",
              "      gap: 12px;\n",
              "    }\n",
              "\n",
              "    .colab-df-convert {\n",
              "      background-color: #E8F0FE;\n",
              "      border: none;\n",
              "      border-radius: 50%;\n",
              "      cursor: pointer;\n",
              "      display: none;\n",
              "      fill: #1967D2;\n",
              "      height: 32px;\n",
              "      padding: 0 0 0 0;\n",
              "      width: 32px;\n",
              "    }\n",
              "\n",
              "    .colab-df-convert:hover {\n",
              "      background-color: #E2EBFA;\n",
              "      box-shadow: 0px 1px 2px rgba(60, 64, 67, 0.3), 0px 1px 3px 1px rgba(60, 64, 67, 0.15);\n",
              "      fill: #174EA6;\n",
              "    }\n",
              "\n",
              "    .colab-df-buttons div {\n",
              "      margin-bottom: 4px;\n",
              "    }\n",
              "\n",
              "    [theme=dark] .colab-df-convert {\n",
              "      background-color: #3B4455;\n",
              "      fill: #D2E3FC;\n",
              "    }\n",
              "\n",
              "    [theme=dark] .colab-df-convert:hover {\n",
              "      background-color: #434B5C;\n",
              "      box-shadow: 0px 1px 3px 1px rgba(0, 0, 0, 0.15);\n",
              "      filter: drop-shadow(0px 1px 2px rgba(0, 0, 0, 0.3));\n",
              "      fill: #FFFFFF;\n",
              "    }\n",
              "  </style>\n",
              "\n",
              "    <script>\n",
              "      const buttonEl =\n",
              "        document.querySelector('#df-5cb4d339-5e41-4e45-9adb-5e3207e815a8 button.colab-df-convert');\n",
              "      buttonEl.style.display =\n",
              "        google.colab.kernel.accessAllowed ? 'block' : 'none';\n",
              "\n",
              "      async function convertToInteractive(key) {\n",
              "        const element = document.querySelector('#df-5cb4d339-5e41-4e45-9adb-5e3207e815a8');\n",
              "        const dataTable =\n",
              "          await google.colab.kernel.invokeFunction('convertToInteractive',\n",
              "                                                    [key], {});\n",
              "        if (!dataTable) return;\n",
              "\n",
              "        const docLinkHtml = 'Like what you see? Visit the ' +\n",
              "          '<a target=\"_blank\" href=https://colab.research.google.com/notebooks/data_table.ipynb>data table notebook</a>'\n",
              "          + ' to learn more about interactive tables.';\n",
              "        element.innerHTML = '';\n",
              "        dataTable['output_type'] = 'display_data';\n",
              "        await google.colab.output.renderOutput(dataTable, element);\n",
              "        const docLink = document.createElement('div');\n",
              "        docLink.innerHTML = docLinkHtml;\n",
              "        element.appendChild(docLink);\n",
              "      }\n",
              "    </script>\n",
              "  </div>\n",
              "\n",
              "    </div>\n",
              "  </div>\n"
            ],
            "application/vnd.google.colaboratory.intrinsic+json": {
              "type": "dataframe",
              "variable_name": "my_guy",
              "summary": "{\n  \"name\": \"my_guy\",\n  \"rows\": 1,\n  \"fields\": [\n    {\n      \"column\": \"id\",\n      \"properties\": {\n        \"dtype\": \"number\",\n        \"std\": null,\n        \"min\": 506433,\n        \"max\": 506433,\n        \"num_unique_values\": 1,\n        \"samples\": [\n          506433\n        ],\n        \"semantic_type\": \"\",\n        \"description\": \"\"\n      }\n    },\n    {\n      \"column\": \"first_name\",\n      \"properties\": {\n        \"dtype\": \"string\",\n        \"num_unique_values\": 1,\n        \"samples\": [\n          \"Yu\"\n        ],\n        \"semantic_type\": \"\",\n        \"description\": \"\"\n      }\n    },\n    {\n      \"column\": \"last_name\",\n      \"properties\": {\n        \"dtype\": \"string\",\n        \"num_unique_values\": 1,\n        \"samples\": [\n          \"Darvish\"\n        ],\n        \"semantic_type\": \"\",\n        \"description\": \"\"\n      }\n    }\n  ]\n}"
            }
          },
          "metadata": {},
          "execution_count": 312
        }
      ]
    },
    {
      "cell_type": "code",
      "source": [
        "# Define acceptable pitch types\n",
        "valid_pitch_dict = {\n",
        "    'FF': 'Four-Seam Fastball', 'FT': 'Two-Seam Fastball',\n",
        "    'CH': 'Change-up', 'CU': 'Curveball',\n",
        "    'FC': 'Cutter', 'EP': 'Eephus',\n",
        "    'FO': 'Forkball', 'KC': 'Knuckle Curve',\n",
        "    'KN': 'Knuckleball', 'SC': 'Screwball',\n",
        "    'SI': 'Sinker', 'SL': 'Slider',\n",
        "    'FS': 'Splitter',\n",
        "}"
      ],
      "metadata": {
        "id": "RG40H63zNtsJ"
      },
      "execution_count": null,
      "outputs": []
    },
    {
      "cell_type": "code",
      "source": [
        "## retrying some data cleaning\n",
        "word_counts = fullAtbats['pitcher_id'].value_counts()\n",
        "\n",
        "# print the counts\n",
        "#print(\"Most frequent name is\", word_counts.index[250])\n",
        "\n",
        "## new df\n",
        "specificBats = fullAtbats[fullAtbats['pitcher_id'] == 506433]\n",
        "#specificBats.info()"
      ],
      "metadata": {
        "id": "BnJzGz2DDApx"
      },
      "execution_count": null,
      "outputs": []
    },
    {
      "cell_type": "code",
      "source": [
        "#fullAtbats = fullAtbats.drop(columns = ['event', 'type','p_throws','stand'])\n",
        "#fullAtbats = fullAtbats.head(15000)\n",
        "fullAtbats = specificBats\n",
        "fullAtbats = fullAtbats[\n",
        "    fullAtbats['pitch_type'].str.contains(\n",
        "        '|'.join(list(valid_pitch_dict.keys())), na=False)\n",
        "    ]\n",
        "fullAtbats.info()\n",
        "fullAtbats.to_csv('cleanFullAtbatsByPitcher.csv', index=False)"
      ],
      "metadata": {
        "colab": {
          "base_uri": "https://localhost:8080/"
        },
        "id": "fh2ZQNSr-_c2",
        "outputId": "cdb25513-24c8-4d7e-d367-e9ae5490e6da"
      },
      "execution_count": null,
      "outputs": [
        {
          "output_type": "stream",
          "name": "stdout",
          "text": [
            "<class 'pandas.core.frame.DataFrame'>\n",
            "Index: 5355 entries, 916577 to 2346358\n",
            "Data columns (total 18 columns):\n",
            " #   Column      Non-Null Count  Dtype  \n",
            "---  ------      --------------  -----  \n",
            " 0   ab_id       5355 non-null   int64  \n",
            " 1   batter_id   5355 non-null   int64  \n",
            " 2   g_id        5355 non-null   int64  \n",
            " 3   inning      5355 non-null   int64  \n",
            " 4   o           5355 non-null   int64  \n",
            " 5   p_score     5355 non-null   int64  \n",
            " 6   pitcher_id  5355 non-null   int64  \n",
            " 7   top         5355 non-null   bool   \n",
            " 8   pitch_type  5355 non-null   object \n",
            " 9   event_num   5355 non-null   int64  \n",
            " 10  b_score     5355 non-null   float64\n",
            " 11  b_count     5355 non-null   float64\n",
            " 12  s_count     5355 non-null   float64\n",
            " 13  outs        5355 non-null   float64\n",
            " 14  pitch_num   5355 non-null   float64\n",
            " 15  on_1b       5355 non-null   float64\n",
            " 16  on_2b       5355 non-null   float64\n",
            " 17  on_3b       5355 non-null   float64\n",
            "dtypes: bool(1), float64(8), int64(8), object(1)\n",
            "memory usage: 758.3+ KB\n"
          ]
        }
      ]
    },
    {
      "cell_type": "code",
      "source": [
        "top_pitch = fullAtbats['pitch_type'].value_counts().head(5)\n",
        "for i in range(5):\n",
        "  top_pitch_name = valid_pitch_dict[top_pitch.index[i]]\n",
        "  top_pitch_freq = int((top_pitch.values[i] / len(fullAtbats)) * 100)\n",
        "  print(f'Yu Darvish throws {top_pitch_name} {top_pitch_freq}% of the time')"
      ],
      "metadata": {
        "colab": {
          "base_uri": "https://localhost:8080/"
        },
        "id": "9rVURQnyyLqg",
        "outputId": "38b4f98c-cb75-4e51-fb98-6e3251a511d5"
      },
      "execution_count": null,
      "outputs": [
        {
          "output_type": "stream",
          "name": "stdout",
          "text": [
            "Yu Darvish throws Four-Seam Fastball 36% of the time\n",
            "Yu Darvish throws Slider 23% of the time\n",
            "Yu Darvish throws Two-Seam Fastball 18% of the time\n",
            "Yu Darvish throws Cutter 12% of the time\n",
            "Yu Darvish throws Curveball 6% of the time\n"
          ]
        }
      ]
    },
    {
      "cell_type": "code",
      "source": [
        "## define how to make the sequences\n",
        "class Sequencer:\n",
        "  def __init__(self,\n",
        "                 data: pd.core.frame.DataFrame,\n",
        "                 max_length: int,\n",
        "                 n_features: int,\n",
        "                 n_pitch_types: int) -> None:\n",
        "        self.data = data\n",
        "        self.max_length = max_length\n",
        "        self.n_features = n_features\n",
        "        self.n_pitch_types = n_pitch_types\n",
        "  def _make_mappings(self, group):\n",
        "        data_arr = group.values\n",
        "        dict_keys = [i for i in range(1, len(group)+ 1)] #1-indexing the feature vectors lets us reserve 0 for padding\n",
        "        features = data_arr[:,1 : -self.n_pitch_types]\n",
        "        labels = data_arr[:, -self.n_pitch_types:]\n",
        "        index_to_pitch = dict(zip(dict_keys, features))\n",
        "        index_to_pitch[0] = np.zeros(features.shape[1], dtype='int64')\n",
        "        index_to_label = dict(zip(dict_keys, labels))\n",
        "        return index_to_pitch, index_to_label\n",
        "  def _ascending_subsequences(self, increasing_list: list):\n",
        "        subsequences = []\n",
        "        n = len(increasing_list)\n",
        "        for i in range(n):\n",
        "            for j in range(i+1, n+1):\n",
        "                subsequences.append(increasing_list[i:j])\n",
        "        return subsequences\n",
        "  def _build_sequences(self, subsequences):\n",
        "        length = self.max_length\n",
        "        processed_sublists = []\n",
        "        for sublist in subsequences:\n",
        "            sublist_length = len(sublist)\n",
        "            if sublist_length < length: # If too short\n",
        "                sublist.extend([0] * (length - sublist_length))\n",
        "                processed_sublists.append(sublist)\n",
        "            else:\n",
        "                num_sublists = (sublist_length + length - 1) // length\n",
        "                pad_length = num_sublists * length - sublist_length\n",
        "                sublist = np.pad(sublist, (0, pad_length), mode='constant', constant_values=0)\n",
        "                processed_sublists.extend(np.split(sublist, num_sublists))\n",
        "        return np.array(processed_sublists)\n",
        "  def _populate_vectors(self, group):\n",
        "        group = group.sort_values('pitch_num', ascending=True)\n",
        "        index_to_pitch, index_to_label = self._make_mappings(group)\n",
        "        subsequences = self._ascending_subsequences(list(index_to_label.keys()))\n",
        "        index_to_label[0] = np.zeros(self.n_pitch_types, dtype='int64') # add this now to prevent messing up the key length\n",
        "        processed_sublists = self._build_sequences(subsequences)\n",
        "        all_features = np.array([[index_to_pitch[i] for i in sublist] for sublist in processed_sublists])\n",
        "        all_labels = np.array(\n",
        "            [index_to_label[max(sublist)] for sublist in processed_sublists]\n",
        "        )\n",
        "        return all_features, all_labels\n",
        "  def make_sequences(self):\n",
        "        data = self.data.astype(np.float64)\n",
        "        test_split_ratio = 0.8\n",
        "        val_split_ratio = 0.9\n",
        "        train_val_size = int(len(data) * test_split_ratio)\n",
        "        train_val_data, test_data = data[:train_val_size], data[train_val_size:]\n",
        "        train_size = int(len(train_val_data) * val_split_ratio)\n",
        "        train_data, val_data = train_val_data[:train_size], train_val_data[train_size:]\n",
        "        train_sequences = train_data.groupby('ab_id').apply(self._populate_vectors)\n",
        "        X_train = np.concatenate([result[0] for result in train_sequences])\n",
        "        y_train = np.concatenate([result[1] for result in train_sequences])\n",
        "        val_sequences = val_data.groupby('ab_id').apply(self._populate_vectors)\n",
        "        X_val = np.concatenate([result[0] for result in val_sequences])\n",
        "        y_val = np.concatenate([result[1] for result in val_sequences])\n",
        "        test_sequences = test_data.groupby('ab_id').apply(self._populate_vectors)\n",
        "        X_test = np.concatenate([result[0] for result in test_sequences])\n",
        "        y_test = np.concatenate([result[1] for result in test_sequences])\n",
        "        return X_train, X_val, X_test, y_train, y_val, y_test"
      ],
      "metadata": {
        "id": "SjKky3cJP7dQ"
      },
      "execution_count": null,
      "outputs": []
    },
    {
      "cell_type": "code",
      "source": [
        "repertoire_abb = fullAtbats['pitch_type'].unique()\n",
        "\n",
        "repertoire_size = len(repertoire_abb)\n",
        "n_features = fullAtbats.shape[1] - repertoire_size\n",
        "repertoire_abb"
      ],
      "metadata": {
        "colab": {
          "base_uri": "https://localhost:8080/"
        },
        "id": "2v4Zwlq7TDo2",
        "outputId": "7638f5f4-fbb3-4c0f-cc55-06927a197771"
      },
      "execution_count": null,
      "outputs": [
        {
          "output_type": "execute_result",
          "data": {
            "text/plain": [
              "array(['FF', 'FT', 'SL', 'FC', 'CU', 'FS', 'CH', 'EP'], dtype=object)"
            ]
          },
          "metadata": {},
          "execution_count": 301
        }
      ]
    },
    {
      "cell_type": "code",
      "source": [
        "# one hot encode categorical values\n",
        "df_encoded = pd.get_dummies(fullAtbats, columns=['pitch_type'])\n",
        "build = fullAtbats['pitch_type']\n",
        "setup = df_encoded.drop(columns=['ab_id','batter_id','g_id','inning','o','p_score',\n",
        "                                 'pitcher_id','top','event_num','b_score','b_count','s_count',\n",
        "                                 'outs','pitch_num','on_1b','on_2b','on_3b'])\n",
        "\n",
        "coding_to_pitches = pd.concat([setup, build], ignore_index=True, sort=False)"
      ],
      "metadata": {
        "id": "0bowyLnkTVKb"
      },
      "execution_count": null,
      "outputs": []
    },
    {
      "cell_type": "code",
      "source": [
        "\n",
        "seq = Sequencer(data=df_encoded,\n",
        "                max_length=6,\n",
        "                n_features=n_features,\n",
        "                n_pitch_types=repertoire_size\n",
        "                )\n",
        "X_train, X_val, X_test, y_train, y_val, y_test = seq.make_sequences()\n"
      ],
      "metadata": {
        "id": "iXe7ZdJiRSU2"
      },
      "execution_count": null,
      "outputs": []
    },
    {
      "cell_type": "code",
      "source": [
        "# MODEL STRUCTURE\n",
        "\n",
        "# LSTM model\n",
        "inputs = Input(shape = (X_train.shape[1], X_train.shape[2]))\n",
        "x = LSTM(100, return_sequences=True)(inputs)\n",
        "x = Dropout(0.2)(x)\n",
        "x = LSTM(100)(x)\n",
        "x = Dropout(0.2)(x)\n",
        "output = Dense(y_train.shape[1], activation='softmax')(x)\n",
        "\n",
        "model = Model(inputs = inputs, outputs = output)\n",
        "model.compile(loss='categorical_crossentropy', optimizer='adam', metrics = [\"accuracy\"])\n",
        "model.summary()"
      ],
      "metadata": {
        "colab": {
          "base_uri": "https://localhost:8080/"
        },
        "id": "StM2xxvQbYrx",
        "outputId": "3e3e46e8-d351-4b8a-8753-5849dc74137d"
      },
      "execution_count": null,
      "outputs": [
        {
          "output_type": "stream",
          "name": "stdout",
          "text": [
            "Model: \"model_17\"\n",
            "_________________________________________________________________\n",
            " Layer (type)                Output Shape              Param #   \n",
            "=================================================================\n",
            " input_26 (InputLayer)       [(None, 6, 16)]           0         \n",
            "                                                                 \n",
            " lstm_35 (LSTM)              (None, 6, 100)            46800     \n",
            "                                                                 \n",
            " dropout_22 (Dropout)        (None, 6, 100)            0         \n",
            "                                                                 \n",
            " lstm_36 (LSTM)              (None, 100)               80400     \n",
            "                                                                 \n",
            " dropout_23 (Dropout)        (None, 100)               0         \n",
            "                                                                 \n",
            " dense_65 (Dense)            (None, 8)                 808       \n",
            "                                                                 \n",
            "=================================================================\n",
            "Total params: 128008 (500.03 KB)\n",
            "Trainable params: 128008 (500.03 KB)\n",
            "Non-trainable params: 0 (0.00 Byte)\n",
            "_________________________________________________________________\n"
          ]
        }
      ]
    },
    {
      "cell_type": "markdown",
      "source": [],
      "metadata": {
        "id": "jENGInE7kGSG"
      }
    },
    {
      "cell_type": "code",
      "source": [
        "# FIT MODEL\n",
        "history = model.fit(X_train, y_train, epochs=40, validation_data=(X_val, y_val))\n",
        "history"
      ],
      "metadata": {
        "colab": {
          "base_uri": "https://localhost:8080/"
        },
        "id": "r9XXZKy-Ktnd",
        "outputId": "029ad298-c81e-473e-e328-06b95ee1357e"
      },
      "execution_count": null,
      "outputs": [
        {
          "output_type": "stream",
          "name": "stdout",
          "text": [
            "Epoch 1/40\n",
            "349/349 [==============================] - 10s 15ms/step - loss: 1.5730 - accuracy: 0.3578 - val_loss: 1.6149 - val_accuracy: 0.3239\n",
            "Epoch 2/40\n",
            "349/349 [==============================] - 6s 17ms/step - loss: 1.5608 - accuracy: 0.3679 - val_loss: 1.5972 - val_accuracy: 0.3291\n",
            "Epoch 3/40\n",
            "349/349 [==============================] - 7s 20ms/step - loss: 1.5568 - accuracy: 0.3685 - val_loss: 1.6101 - val_accuracy: 0.3247\n",
            "Epoch 4/40\n",
            "349/349 [==============================] - 5s 13ms/step - loss: 1.5557 - accuracy: 0.3693 - val_loss: 1.5965 - val_accuracy: 0.3247\n",
            "Epoch 5/40\n",
            "349/349 [==============================] - 5s 14ms/step - loss: 1.5531 - accuracy: 0.3716 - val_loss: 1.6012 - val_accuracy: 0.3247\n",
            "Epoch 6/40\n",
            "349/349 [==============================] - 7s 21ms/step - loss: 1.5523 - accuracy: 0.3699 - val_loss: 1.6015 - val_accuracy: 0.3247\n",
            "Epoch 7/40\n",
            "349/349 [==============================] - 6s 17ms/step - loss: 1.5529 - accuracy: 0.3728 - val_loss: 1.6071 - val_accuracy: 0.3247\n",
            "Epoch 8/40\n",
            "349/349 [==============================] - 5s 14ms/step - loss: 1.5536 - accuracy: 0.3720 - val_loss: 1.6181 - val_accuracy: 0.3247\n",
            "Epoch 9/40\n",
            "349/349 [==============================] - 6s 16ms/step - loss: 1.5532 - accuracy: 0.3714 - val_loss: 1.5968 - val_accuracy: 0.3247\n",
            "Epoch 10/40\n",
            "349/349 [==============================] - 7s 21ms/step - loss: 1.5501 - accuracy: 0.3717 - val_loss: 1.6035 - val_accuracy: 0.3247\n",
            "Epoch 11/40\n",
            "349/349 [==============================] - 5s 13ms/step - loss: 1.5517 - accuracy: 0.3709 - val_loss: 1.5981 - val_accuracy: 0.3247\n",
            "Epoch 12/40\n",
            "349/349 [==============================] - 4s 13ms/step - loss: 1.5517 - accuracy: 0.3724 - val_loss: 1.6069 - val_accuracy: 0.3247\n",
            "Epoch 13/40\n",
            "349/349 [==============================] - 7s 20ms/step - loss: 1.5515 - accuracy: 0.3738 - val_loss: 1.6012 - val_accuracy: 0.3247\n",
            "Epoch 14/40\n",
            "349/349 [==============================] - 6s 18ms/step - loss: 1.5505 - accuracy: 0.3732 - val_loss: 1.5937 - val_accuracy: 0.3143\n",
            "Epoch 15/40\n",
            "349/349 [==============================] - 5s 13ms/step - loss: 1.5506 - accuracy: 0.3726 - val_loss: 1.6182 - val_accuracy: 0.3247\n",
            "Epoch 16/40\n",
            "349/349 [==============================] - 5s 15ms/step - loss: 1.5507 - accuracy: 0.3728 - val_loss: 1.5906 - val_accuracy: 0.3239\n",
            "Epoch 17/40\n",
            "349/349 [==============================] - 8s 22ms/step - loss: 1.5514 - accuracy: 0.3718 - val_loss: 1.6013 - val_accuracy: 0.3247\n",
            "Epoch 18/40\n",
            "349/349 [==============================] - 5s 13ms/step - loss: 1.5503 - accuracy: 0.3714 - val_loss: 1.6067 - val_accuracy: 0.3247\n",
            "Epoch 19/40\n",
            "349/349 [==============================] - 4s 13ms/step - loss: 1.5501 - accuracy: 0.3723 - val_loss: 1.5963 - val_accuracy: 0.3143\n",
            "Epoch 20/40\n",
            "349/349 [==============================] - 6s 18ms/step - loss: 1.5516 - accuracy: 0.3708 - val_loss: 1.5854 - val_accuracy: 0.3247\n",
            "Epoch 21/40\n",
            "349/349 [==============================] - 7s 19ms/step - loss: 1.5505 - accuracy: 0.3720 - val_loss: 1.5892 - val_accuracy: 0.3247\n",
            "Epoch 22/40\n",
            "349/349 [==============================] - 4s 13ms/step - loss: 1.5500 - accuracy: 0.3702 - val_loss: 1.5991 - val_accuracy: 0.3247\n",
            "Epoch 23/40\n",
            "349/349 [==============================] - 5s 13ms/step - loss: 1.5498 - accuracy: 0.3734 - val_loss: 1.5883 - val_accuracy: 0.3247\n",
            "Epoch 24/40\n",
            "349/349 [==============================] - 7s 20ms/step - loss: 1.5506 - accuracy: 0.3729 - val_loss: 1.5961 - val_accuracy: 0.3247\n",
            "Epoch 25/40\n",
            "349/349 [==============================] - 6s 17ms/step - loss: 1.5510 - accuracy: 0.3728 - val_loss: 1.6148 - val_accuracy: 0.3143\n",
            "Epoch 26/40\n",
            "349/349 [==============================] - 5s 13ms/step - loss: 1.5507 - accuracy: 0.3708 - val_loss: 1.5976 - val_accuracy: 0.3247\n",
            "Epoch 27/40\n",
            "349/349 [==============================] - 6s 16ms/step - loss: 1.5504 - accuracy: 0.3724 - val_loss: 1.6015 - val_accuracy: 0.3247\n",
            "Epoch 28/40\n",
            "349/349 [==============================] - 7s 21ms/step - loss: 1.5507 - accuracy: 0.3734 - val_loss: 1.5884 - val_accuracy: 0.3247\n",
            "Epoch 29/40\n",
            "349/349 [==============================] - 5s 13ms/step - loss: 1.5501 - accuracy: 0.3731 - val_loss: 1.6022 - val_accuracy: 0.3247\n",
            "Epoch 30/40\n",
            "349/349 [==============================] - 5s 13ms/step - loss: 1.5504 - accuracy: 0.3727 - val_loss: 1.5985 - val_accuracy: 0.3247\n",
            "Epoch 31/40\n",
            "349/349 [==============================] - 7s 19ms/step - loss: 1.5494 - accuracy: 0.3727 - val_loss: 1.5976 - val_accuracy: 0.3247\n",
            "Epoch 32/40\n",
            "349/349 [==============================] - 6s 18ms/step - loss: 1.5504 - accuracy: 0.3720 - val_loss: 1.5942 - val_accuracy: 0.3247\n",
            "Epoch 33/40\n",
            "349/349 [==============================] - 4s 13ms/step - loss: 1.5499 - accuracy: 0.3723 - val_loss: 1.6072 - val_accuracy: 0.3143\n",
            "Epoch 34/40\n",
            "349/349 [==============================] - 5s 15ms/step - loss: 1.5506 - accuracy: 0.3738 - val_loss: 1.5976 - val_accuracy: 0.3247\n",
            "Epoch 35/40\n",
            "349/349 [==============================] - 8s 22ms/step - loss: 1.5489 - accuracy: 0.3730 - val_loss: 1.5991 - val_accuracy: 0.3143\n",
            "Epoch 36/40\n",
            "349/349 [==============================] - 5s 15ms/step - loss: 1.5505 - accuracy: 0.3721 - val_loss: 1.6043 - val_accuracy: 0.3247\n",
            "Epoch 37/40\n",
            "349/349 [==============================] - 5s 13ms/step - loss: 1.5491 - accuracy: 0.3737 - val_loss: 1.6088 - val_accuracy: 0.3247\n",
            "Epoch 38/40\n",
            "349/349 [==============================] - 6s 18ms/step - loss: 1.5504 - accuracy: 0.3725 - val_loss: 1.5970 - val_accuracy: 0.3247\n",
            "Epoch 39/40\n",
            "349/349 [==============================] - 7s 20ms/step - loss: 1.5499 - accuracy: 0.3711 - val_loss: 1.5923 - val_accuracy: 0.3247\n",
            "Epoch 40/40\n",
            "349/349 [==============================] - 4s 13ms/step - loss: 1.5504 - accuracy: 0.3734 - val_loss: 1.6114 - val_accuracy: 0.3247\n"
          ]
        },
        {
          "output_type": "execute_result",
          "data": {
            "text/plain": [
              "<keras.src.callbacks.History at 0x7985c75ff730>"
            ]
          },
          "metadata": {},
          "execution_count": 305
        }
      ]
    },
    {
      "cell_type": "code",
      "source": [
        "#model.predict(X_test)\n",
        "# get model's prediction (as a one hot vec)\n",
        "prediction = model.predict(X_test) # predicted probs\n",
        "for i in range(25):\n",
        "  index = np.argmax(prediction[i]) # find highest prop\n",
        "  print(repertoire_abb[index])\n",
        " # use one hots to grab actual characters\n",
        "#result = coding_to_pitches[index]"
      ],
      "metadata": {
        "colab": {
          "base_uri": "https://localhost:8080/"
        },
        "collapsed": true,
        "id": "1-3ceFeKLYQi",
        "outputId": "4db2884c-71d4-42e2-fa0f-91afbe57f6bd"
      },
      "execution_count": null,
      "outputs": [
        {
          "output_type": "stream",
          "name": "stdout",
          "text": [
            "100/100 [==============================] - 1s 10ms/step\n",
            "CU\n",
            "CU\n",
            "CU\n",
            "CU\n",
            "CU\n",
            "CU\n",
            "EP\n",
            "CU\n",
            "CU\n",
            "CU\n",
            "CU\n",
            "CU\n",
            "CU\n",
            "CU\n",
            "CU\n",
            "CU\n",
            "CU\n",
            "CU\n",
            "CU\n",
            "CU\n",
            "CU\n",
            "CU\n",
            "CU\n",
            "CU\n",
            "CU\n"
          ]
        }
      ]
    },
    {
      "cell_type": "code",
      "source": [
        "## MEASURE OUTPUTS\n",
        "plt.plot(history.history['accuracy'])\n",
        "plt.plot(history.history['val_accuracy'])\n",
        "plt.title('model accuracy')\n",
        "plt.ylabel('accuracy')\n",
        "plt.xlabel('epoch')\n",
        "plt.legend(['train', 'val'], loc='upper left')\n",
        "plt.show()\n",
        "\n",
        "\n",
        "plt.plot(history.history['loss'])\n",
        "plt.plot(history.history['val_loss'])\n",
        "plt.title('model loss')\n",
        "plt.ylabel('loss')\n",
        "plt.xlabel('epoch')\n",
        "plt.legend(['train', 'val'], loc='upper left')\n",
        "plt.show()"
      ],
      "metadata": {
        "colab": {
          "base_uri": "https://localhost:8080/",
          "height": 927
        },
        "id": "lhejZrA6_XeI",
        "outputId": "1f0d9b1e-7e64-4c9d-abb3-7cbb71864d6b"
      },
      "execution_count": null,
      "outputs": [
        {
          "output_type": "display_data",
          "data": {
            "text/plain": [
              "<Figure size 640x480 with 1 Axes>"
            ],
            "image/png": "[encoded data removed]"
          },
          "metadata": {}
        },
        {
          "output_type": "display_data",
          "data": {
            "text/plain": [
              "<Figure size 640x480 with 1 Axes>"
            ],
            "image/png": "[encoded data removed]"
          },
          "metadata": {}
        }
      ]
    },
    {
      "cell_type": "code",
      "source": [
        "## With another pitcher:\n",
        "## DATA CLEANING\n",
        "# slim down pitches to only 1 year-ish\n",
        "pitchesSlim = pitches.head(pitches.shape[0])\n",
        "#games = games.head(games.shape[0])\n",
        "atbatsSlim = atbats.head(atbats.shape[0])\n",
        "\n",
        "#delete rows\n",
        "# pitches -- complete --\n",
        "pitchesSlim = pitchesSlim.drop(columns = ['px','pz','start_speed','end_speed','spin_rate','spin_dir','break_angle','break_length','break_y'])\n",
        "pitchesSlim = pitchesSlim.drop(columns = ['ax','ay','az','sz_bot','sz_top','type_confidence','vx0','vy0','vz0', 'x'])\n",
        "pitchesSlim = pitchesSlim.drop(columns = ['x0','y','y0','z0','pfx_x','pfx_z','nasty','zone','code'])\n",
        "\n",
        "# add spacers to the at bat\n",
        "#fullAtbats = atbats.loc[atbats.index.repeat()].reset_index(drop=True)\n",
        "fullAtbats = atbatsSlim.merge(pitchesSlim, on = 'ab_id')\n",
        "fullAtbats = fullAtbats.drop(columns=['event', 'stand', 'p_throws', 'type'])\n"
      ],
      "metadata": {
        "id": "hpK17J59_ZJ1"
      },
      "execution_count": null,
      "outputs": []
    },
    {
      "cell_type": "code",
      "source": [
        "## retrying some data cleaning\n",
        "pitch_counts = fullAtbats['pitcher_id'].value_counts()\n",
        "\n",
        "# print the counts\n",
        "#print(\"Most frequent name is\", word_counts.index[250])\n",
        "\n",
        "## new df\n",
        "specificBats = fullAtbats[fullAtbats['pitcher_id'] == pitch_counts.index[0]]\n",
        "#specificBats.info()"
      ],
      "metadata": {
        "id": "IHTvMzv01bb9"
      },
      "execution_count": null,
      "outputs": []
    },
    {
      "cell_type": "code",
      "source": [
        "\n",
        "fullAtbats = specificBats\n",
        "fullAtbats = fullAtbats[\n",
        "    fullAtbats['pitch_type'].str.contains(\n",
        "        '|'.join(list(valid_pitch_dict.keys())), na=False)\n",
        "    ]\n",
        "fullAtbats.info()\n",
        "#fullAtbats.to_csv('cleanFullAtbatsByPitcher.csv', index=False)"
      ],
      "metadata": {
        "colab": {
          "base_uri": "https://localhost:8080/"
        },
        "id": "yLHnzQk51bUw",
        "outputId": "a4fac2e3-4af4-4fb3-a281-eeee8739a4ce"
      },
      "execution_count": null,
      "outputs": [
        {
          "output_type": "stream",
          "name": "stdout",
          "text": [
            "<class 'pandas.core.frame.DataFrame'>\n",
            "Index: 13479 entries, 2407 to 2843325\n",
            "Data columns (total 18 columns):\n",
            " #   Column      Non-Null Count  Dtype  \n",
            "---  ------      --------------  -----  \n",
            " 0   ab_id       13479 non-null  int64  \n",
            " 1   batter_id   13479 non-null  int64  \n",
            " 2   g_id        13479 non-null  int64  \n",
            " 3   inning      13479 non-null  int64  \n",
            " 4   o           13479 non-null  int64  \n",
            " 5   p_score     13479 non-null  int64  \n",
            " 6   pitcher_id  13479 non-null  int64  \n",
            " 7   top         13479 non-null  bool   \n",
            " 8   pitch_type  13479 non-null  object \n",
            " 9   event_num   13479 non-null  int64  \n",
            " 10  b_score     13479 non-null  float64\n",
            " 11  b_count     13479 non-null  float64\n",
            " 12  s_count     13479 non-null  float64\n",
            " 13  outs        13479 non-null  float64\n",
            " 14  pitch_num   13479 non-null  float64\n",
            " 15  on_1b       13479 non-null  float64\n",
            " 16  on_2b       13479 non-null  float64\n",
            " 17  on_3b       13479 non-null  float64\n",
            "dtypes: bool(1), float64(8), int64(8), object(1)\n",
            "memory usage: 1.9+ MB\n"
          ]
        }
      ]
    },
    {
      "cell_type": "code",
      "source": [
        "top_pitch = fullAtbats['pitch_type'].value_counts().head(3)\n",
        "for i in range(3):\n",
        "  top_pitch_name = valid_pitch_dict[top_pitch.index[i]]\n",
        "  top_pitch_freq = int((top_pitch.values[i] / len(fullAtbats)) * 100)\n",
        "  print(f'Second pitcher throws {top_pitch_name} {top_pitch_freq}% of the time')"
      ],
      "metadata": {
        "colab": {
          "base_uri": "https://localhost:8080/"
        },
        "id": "x0Dhvt791bOy",
        "outputId": "ad6835bd-ba76-4b7c-d3c9-2a7461d454ae"
      },
      "execution_count": null,
      "outputs": [
        {
          "output_type": "stream",
          "name": "stdout",
          "text": [
            "Second pitcher throws Four-Seam Fastball 52% of the time\n",
            "Second pitcher throws Slider 19% of the time\n",
            "Second pitcher throws Change-up 13% of the time\n"
          ]
        }
      ]
    },
    {
      "cell_type": "code",
      "source": [
        "repertoire_abb = fullAtbats['pitch_type'].unique()\n",
        "\n",
        "repertoire_size = len(repertoire_abb)\n",
        "n_features = fullAtbats.shape[1] - repertoire_size\n",
        "repertoire_abb"
      ],
      "metadata": {
        "colab": {
          "base_uri": "https://localhost:8080/"
        },
        "id": "Kls8FcGY1bJD",
        "outputId": "ed5e381c-2ce6-497b-ecde-77a6db92b149"
      },
      "execution_count": null,
      "outputs": [
        {
          "output_type": "execute_result",
          "data": {
            "text/plain": [
              "array(['FF', 'CH', 'SL', 'FC', 'CU', 'FT'], dtype=object)"
            ]
          },
          "metadata": {},
          "execution_count": 335
        }
      ]
    },
    {
      "cell_type": "code",
      "source": [
        "df_encoded = pd.get_dummies(fullAtbats, columns=['pitch_type'])\n",
        "seq = Sequencer(data=df_encoded,\n",
        "                max_length=6,\n",
        "                n_features=n_features,\n",
        "                n_pitch_types=repertoire_size\n",
        "                )\n",
        "X_train, X_val, X_test, y_train, y_val, y_test = seq.make_sequences()"
      ],
      "metadata": {
        "id": "Fm0cbhE41a8l"
      },
      "execution_count": null,
      "outputs": []
    },
    {
      "cell_type": "code",
      "source": [
        "# MODEL STRUCTURE\n",
        "\n",
        "# LSTM model\n",
        "inputs = Input(shape = (X_train.shape[1], X_train.shape[2]))\n",
        "x = LSTM(100, return_sequences=True)(inputs)\n",
        "x = Dropout(0.2)(x)\n",
        "x = LSTM(100)(x)\n",
        "x = Dropout(0.2)(x)\n",
        "output = Dense(y_train.shape[1], activation='softmax')(x)\n",
        "\n",
        "model = Model(inputs = inputs, outputs = output)\n",
        "model.compile(loss='categorical_crossentropy', optimizer='adam', metrics = [\"accuracy\"])\n",
        "model.summary()"
      ],
      "metadata": {
        "colab": {
          "base_uri": "https://localhost:8080/"
        },
        "id": "w4BMvg_Q2L7q",
        "outputId": "de6e3b41-5b0a-423d-e204-9bf9536ed38c"
      },
      "execution_count": null,
      "outputs": [
        {
          "output_type": "stream",
          "name": "stdout",
          "text": [
            "Model: \"model_18\"\n",
            "_________________________________________________________________\n",
            " Layer (type)                Output Shape              Param #   \n",
            "=================================================================\n",
            " input_27 (InputLayer)       [(None, 6, 16)]           0         \n",
            "                                                                 \n",
            " lstm_37 (LSTM)              (None, 6, 100)            46800     \n",
            "                                                                 \n",
            " dropout_24 (Dropout)        (None, 6, 100)            0         \n",
            "                                                                 \n",
            " lstm_38 (LSTM)              (None, 100)               80400     \n",
            "                                                                 \n",
            " dropout_25 (Dropout)        (None, 100)               0         \n",
            "                                                                 \n",
            " dense_66 (Dense)            (None, 6)                 606       \n",
            "                                                                 \n",
            "=================================================================\n",
            "Total params: 127806 (499.24 KB)\n",
            "Trainable params: 127806 (499.24 KB)\n",
            "Non-trainable params: 0 (0.00 Byte)\n",
            "_________________________________________________________________\n"
          ]
        }
      ]
    },
    {
      "cell_type": "code",
      "source": [
        "# FIT MODEL\n",
        "history = model.fit(X_train, y_train, epochs=40, validation_data=(X_val, y_val))\n",
        "history"
      ],
      "metadata": {
        "colab": {
          "base_uri": "https://localhost:8080/"
        },
        "collapsed": true,
        "id": "gc3ZvGw-2PfN",
        "outputId": "b9ddb60c-80a7-44d8-c454-d53a2754b562"
      },
      "execution_count": null,
      "outputs": [
        {
          "output_type": "stream",
          "name": "stdout",
          "text": [
            "Epoch 1/40\n",
            "894/894 [==============================] - 21s 19ms/step - loss: 1.3180 - accuracy: 0.5197 - val_loss: 1.5171 - val_accuracy: 0.4832\n",
            "Epoch 2/40\n",
            "894/894 [==============================] - 15s 16ms/step - loss: 1.3089 - accuracy: 0.5213 - val_loss: 1.5276 - val_accuracy: 0.4832\n",
            "Epoch 3/40\n",
            "894/894 [==============================] - 13s 15ms/step - loss: 1.3065 - accuracy: 0.5213 - val_loss: 1.5190 - val_accuracy: 0.4832\n",
            "Epoch 4/40\n",
            "894/894 [==============================] - 16s 17ms/step - loss: 1.3056 - accuracy: 0.5213 - val_loss: 1.4898 - val_accuracy: 0.4832\n",
            "Epoch 5/40\n",
            "894/894 [==============================] - 16s 18ms/step - loss: 1.3060 - accuracy: 0.5213 - val_loss: 1.5081 - val_accuracy: 0.4832\n",
            "Epoch 6/40\n",
            "894/894 [==============================] - 13s 14ms/step - loss: 1.3056 - accuracy: 0.5213 - val_loss: 1.5051 - val_accuracy: 0.4832\n",
            "Epoch 7/40\n",
            "894/894 [==============================] - 15s 16ms/step - loss: 1.3047 - accuracy: 0.5213 - val_loss: 1.4953 - val_accuracy: 0.4832\n",
            "Epoch 8/40\n",
            "894/894 [==============================] - 16s 17ms/step - loss: 1.3039 - accuracy: 0.5213 - val_loss: 1.4909 - val_accuracy: 0.4832\n",
            "Epoch 9/40\n",
            "894/894 [==============================] - 15s 16ms/step - loss: 1.3051 - accuracy: 0.5213 - val_loss: 1.5222 - val_accuracy: 0.4832\n",
            "Epoch 10/40\n",
            "894/894 [==============================] - 13s 14ms/step - loss: 1.3041 - accuracy: 0.5213 - val_loss: 1.5089 - val_accuracy: 0.4832\n",
            "Epoch 11/40\n",
            "894/894 [==============================] - 16s 18ms/step - loss: 1.3053 - accuracy: 0.5213 - val_loss: 1.5019 - val_accuracy: 0.4832\n",
            "Epoch 12/40\n",
            "894/894 [==============================] - 16s 18ms/step - loss: 1.3044 - accuracy: 0.5213 - val_loss: 1.5324 - val_accuracy: 0.4832\n",
            "Epoch 13/40\n",
            "894/894 [==============================] - 13s 14ms/step - loss: 1.3045 - accuracy: 0.5213 - val_loss: 1.4944 - val_accuracy: 0.4832\n",
            "Epoch 14/40\n",
            "894/894 [==============================] - 14s 16ms/step - loss: 1.3041 - accuracy: 0.5213 - val_loss: 1.4914 - val_accuracy: 0.4832\n",
            "Epoch 15/40\n",
            "894/894 [==============================] - 16s 17ms/step - loss: 1.3046 - accuracy: 0.5213 - val_loss: 1.5006 - val_accuracy: 0.4832\n",
            "Epoch 16/40\n",
            "894/894 [==============================] - 14s 15ms/step - loss: 1.3044 - accuracy: 0.5213 - val_loss: 1.5171 - val_accuracy: 0.4832\n",
            "Epoch 17/40\n",
            "894/894 [==============================] - 13s 15ms/step - loss: 1.3044 - accuracy: 0.5213 - val_loss: 1.5040 - val_accuracy: 0.4832\n",
            "Epoch 18/40\n",
            "894/894 [==============================] - 16s 17ms/step - loss: 1.3036 - accuracy: 0.5213 - val_loss: 1.5135 - val_accuracy: 0.4832\n",
            "Epoch 19/40\n",
            "894/894 [==============================] - 16s 18ms/step - loss: 1.3044 - accuracy: 0.5213 - val_loss: 1.5287 - val_accuracy: 0.4832\n",
            "Epoch 20/40\n",
            "894/894 [==============================] - 13s 14ms/step - loss: 1.3042 - accuracy: 0.5213 - val_loss: 1.5198 - val_accuracy: 0.4832\n",
            "Epoch 21/40\n",
            "894/894 [==============================] - 15s 17ms/step - loss: 1.3038 - accuracy: 0.5213 - val_loss: 1.5003 - val_accuracy: 0.4832\n",
            "Epoch 22/40\n",
            "894/894 [==============================] - 16s 17ms/step - loss: 1.3045 - accuracy: 0.5213 - val_loss: 1.5088 - val_accuracy: 0.4832\n",
            "Epoch 23/40\n",
            "894/894 [==============================] - 14s 16ms/step - loss: 1.3041 - accuracy: 0.5213 - val_loss: 1.5040 - val_accuracy: 0.4832\n",
            "Epoch 24/40\n",
            "894/894 [==============================] - 13s 15ms/step - loss: 1.3035 - accuracy: 0.5213 - val_loss: 1.4973 - val_accuracy: 0.4832\n",
            "Epoch 25/40\n",
            "894/894 [==============================] - 16s 17ms/step - loss: 1.3038 - accuracy: 0.5213 - val_loss: 1.5205 - val_accuracy: 0.4832\n",
            "Epoch 26/40\n",
            "894/894 [==============================] - 16s 17ms/step - loss: 1.3031 - accuracy: 0.5213 - val_loss: 1.4982 - val_accuracy: 0.4832\n",
            "Epoch 27/40\n",
            "894/894 [==============================] - 13s 14ms/step - loss: 1.3041 - accuracy: 0.5213 - val_loss: 1.5149 - val_accuracy: 0.4832\n",
            "Epoch 28/40\n",
            "894/894 [==============================] - 15s 16ms/step - loss: 1.3036 - accuracy: 0.5213 - val_loss: 1.5147 - val_accuracy: 0.4832\n",
            "Epoch 29/40\n",
            "894/894 [==============================] - 16s 17ms/step - loss: 1.3037 - accuracy: 0.5213 - val_loss: 1.5046 - val_accuracy: 0.4832\n",
            "Epoch 30/40\n",
            "894/894 [==============================] - 14s 15ms/step - loss: 1.3036 - accuracy: 0.5213 - val_loss: 1.5171 - val_accuracy: 0.4832\n",
            "Epoch 31/40\n",
            "894/894 [==============================] - 14s 15ms/step - loss: 1.3035 - accuracy: 0.5213 - val_loss: 1.5084 - val_accuracy: 0.4832\n",
            "Epoch 32/40\n",
            "894/894 [==============================] - 16s 17ms/step - loss: 1.3036 - accuracy: 0.5213 - val_loss: 1.5026 - val_accuracy: 0.4832\n",
            "Epoch 33/40\n",
            "894/894 [==============================] - 15s 17ms/step - loss: 1.3036 - accuracy: 0.5213 - val_loss: 1.5054 - val_accuracy: 0.4832\n",
            "Epoch 34/40\n",
            "894/894 [==============================] - 12s 14ms/step - loss: 1.3037 - accuracy: 0.5213 - val_loss: 1.5174 - val_accuracy: 0.4832\n",
            "Epoch 35/40\n",
            "894/894 [==============================] - 15s 17ms/step - loss: 1.3032 - accuracy: 0.5213 - val_loss: 1.5285 - val_accuracy: 0.4832\n",
            "Epoch 36/40\n",
            "894/894 [==============================] - 16s 18ms/step - loss: 1.3040 - accuracy: 0.5213 - val_loss: 1.4997 - val_accuracy: 0.4832\n",
            "Epoch 37/40\n",
            "894/894 [==============================] - 13s 15ms/step - loss: 1.3029 - accuracy: 0.5213 - val_loss: 1.5007 - val_accuracy: 0.4832\n",
            "Epoch 38/40\n",
            "894/894 [==============================] - 14s 16ms/step - loss: 1.3029 - accuracy: 0.5213 - val_loss: 1.5152 - val_accuracy: 0.4832\n",
            "Epoch 39/40\n",
            "894/894 [==============================] - 16s 18ms/step - loss: 1.3037 - accuracy: 0.5213 - val_loss: 1.5089 - val_accuracy: 0.4832\n",
            "Epoch 40/40\n",
            "894/894 [==============================] - 14s 16ms/step - loss: 1.3029 - accuracy: 0.5213 - val_loss: 1.5141 - val_accuracy: 0.4832\n"
          ]
        },
        {
          "output_type": "execute_result",
          "data": {
            "text/plain": [
              "<keras.src.callbacks.History at 0x7985b6c6b6d0>"
            ]
          },
          "metadata": {},
          "execution_count": 338
        }
      ]
    },
    {
      "cell_type": "code",
      "source": [
        "# get model's prediction (as a one hot vec)\n",
        "prediction = model.predict(X_test) # predicted probs\n",
        "for i in range(25):\n",
        "  index = np.argmax(prediction[i]) # find highest prop\n",
        "  print(repertoire_abb[index])\n",
        " # use one hots to grab actual characters\n",
        "#result = coding_to_pitches[index]"
      ],
      "metadata": {
        "colab": {
          "base_uri": "https://localhost:8080/"
        },
        "collapsed": true,
        "id": "HGd7DFGz2ZcC",
        "outputId": "bea3a801-1177-480d-f556-4204e61a6586"
      },
      "execution_count": null,
      "outputs": [
        {
          "output_type": "stream",
          "name": "stdout",
          "text": [
            "256/256 [==============================] - 2s 5ms/step\n",
            "FC\n",
            "FC\n",
            "FC\n",
            "FC\n",
            "FC\n",
            "FC\n",
            "FC\n",
            "FC\n",
            "FC\n",
            "FC\n",
            "FC\n",
            "FC\n",
            "FC\n",
            "FC\n",
            "FC\n",
            "FC\n",
            "FC\n",
            "FC\n",
            "FC\n",
            "FC\n",
            "FC\n",
            "FC\n",
            "FC\n",
            "FC\n",
            "FC\n"
          ]
        }
      ]
    },
    {
      "cell_type": "code",
      "source": [
        "## MEASURE OUTPUTS\n",
        "plt.plot(history.history['accuracy'])\n",
        "plt.plot(history.history['val_accuracy'])\n",
        "plt.title('model accuracy')\n",
        "plt.ylabel('accuracy')\n",
        "plt.xlabel('epoch')\n",
        "plt.legend(['train', 'val'], loc='upper left')\n",
        "plt.show()\n",
        "\n",
        "\n",
        "plt.plot(history.history['loss'])\n",
        "plt.plot(history.history['val_loss'])\n",
        "plt.title('model loss')\n",
        "plt.ylabel('loss')\n",
        "plt.xlabel('epoch')\n",
        "plt.legend(['train', 'val'], loc='upper left')\n",
        "plt.show()"
      ],
      "metadata": {
        "colab": {
          "base_uri": "https://localhost:8080/",
          "height": 927
        },
        "id": "q22stMee2bmy",
        "outputId": "239b804d-a568-4778-e401-2324bf1e667a"
      },
      "execution_count": null,
      "outputs": [
        {
          "output_type": "display_data",
          "data": {
            "text/plain": [
              "<Figure size 640x480 with 1 Axes>"
            ],
            "image/png": "[encoded data removed]"
          },
          "metadata": {}
        },
        {
          "output_type": "display_data",
          "data": {
            "text/plain": [
              "<Figure size 640x480 with 1 Axes>"
            ],
            "image/png": "[encoded data removed]"
          },
          "metadata": {}
        }
      ]
    },
    {
      "cell_type": "code",
      "source": [
        "the_dude = names[names['id'] == 453286]\n",
        "the_dude"
      ],
      "metadata": {
        "colab": {
          "base_uri": "https://localhost:8080/",
          "height": 81
        },
        "id": "lNETkGLvDuUI",
        "outputId": "e0bd2d94-3f7a-4893-ba68-ef2f57e2cb64"
      },
      "execution_count": null,
      "outputs": [
        {
          "output_type": "execute_result",
          "data": {
            "text/plain": [
              "        id first_name last_name\n",
              "69  453286        Max  Scherzer"
            ],
            "text/html": [
              "\n",
              "  <div id=\"df-547e03b1-f175-4fc9-9612-bdd46472c533\" class=\"colab-df-container\">\n",
              "    <div>\n",
              "<style scoped>\n",
              "    .dataframe tbody tr th:only-of-type {\n",
              "        vertical-align: middle;\n",
              "    }\n",
              "\n",
              "    .dataframe tbody tr th {\n",
              "        vertical-align: top;\n",
              "    }\n",
              "\n",
              "    .dataframe thead th {\n",
              "        text-align: right;\n",
              "    }\n",
              "</style>\n",
              "<table border=\"1\" class=\"dataframe\">\n",
              "  <thead>\n",
              "    <tr style=\"text-align: right;\">\n",
              "      <th></th>\n",
              "      <th>id</th>\n",
              "      <th>first_name</th>\n",
              "      <th>last_name</th>\n",
              "    </tr>\n",
              "  </thead>\n",
              "  <tbody>\n",
              "    <tr>\n",
              "      <th>69</th>\n",
              "      <td>453286</td>\n",
              "      <td>Max</td>\n",
              "      <td>Scherzer</td>\n",
              "    </tr>\n",
              "  </tbody>\n",
              "</table>\n",
              "</div>\n",
              "    <div class=\"colab-df-buttons\">\n",
              "\n",
              "  <div class=\"colab-df-container\">\n",
              "    <button class=\"colab-df-convert\" onclick=\"convertToInteractive('df-547e03b1-f175-4fc9-9612-bdd46472c533')\"\n",
              "            title=\"Convert this dataframe to an interactive table.\"\n",
              "            style=\"display:none;\">\n",
              "\n",
              "  <svg xmlns=\"http://www.w3.org/2000/svg\" height=\"24px\" viewBox=\"0 -960 960 960\">\n",
              "    <path d=\"M120-120v-720h720v720H120Zm60-500h600v-160H180v160Zm220 220h160v-160H400v160Zm0 220h160v-160H400v160ZM180-400h160v-160H180v160Zm440 0h160v-160H620v160ZM180-180h160v-160H180v160Zm440 0h160v-160H620v160Z\"/>\n",
              "  </svg>\n",
              "    </button>\n",
              "\n",
              "  <style>\n",
              "    .colab-df-container {\n",
              "      display:flex;\n",
              "      gap: 12px;\n",
              "    }\n",
              "\n",
              "    .colab-df-convert {\n",
              "      background-color: #E8F0FE;\n",
              "      border: none;\n",
              "      border-radius: 50%;\n",
              "      cursor: pointer;\n",
              "      display: none;\n",
              "      fill: #1967D2;\n",
              "      height: 32px;\n",
              "      padding: 0 0 0 0;\n",
              "      width: 32px;\n",
              "    }\n",
              "\n",
              "    .colab-df-convert:hover {\n",
              "      background-color: #E2EBFA;\n",
              "      box-shadow: 0px 1px 2px rgba(60, 64, 67, 0.3), 0px 1px 3px 1px rgba(60, 64, 67, 0.15);\n",
              "      fill: #174EA6;\n",
              "    }\n",
              "\n",
              "    .colab-df-buttons div {\n",
              "      margin-bottom: 4px;\n",
              "    }\n",
              "\n",
              "    [theme=dark] .colab-df-convert {\n",
              "      background-color: #3B4455;\n",
              "      fill: #D2E3FC;\n",
              "    }\n",
              "\n",
              "    [theme=dark] .colab-df-convert:hover {\n",
              "      background-color: #434B5C;\n",
              "      box-shadow: 0px 1px 3px 1px rgba(0, 0, 0, 0.15);\n",
              "      filter: drop-shadow(0px 1px 2px rgba(0, 0, 0, 0.3));\n",
              "      fill: #FFFFFF;\n",
              "    }\n",
              "  </style>\n",
              "\n",
              "    <script>\n",
              "      const buttonEl =\n",
              "        document.querySelector('#df-547e03b1-f175-4fc9-9612-bdd46472c533 button.colab-df-convert');\n",
              "      buttonEl.style.display =\n",
              "        google.colab.kernel.accessAllowed ? 'block' : 'none';\n",
              "\n",
              "      async function convertToInteractive(key) {\n",
              "        const element = document.querySelector('#df-547e03b1-f175-4fc9-9612-bdd46472c533');\n",
              "        const dataTable =\n",
              "          await google.colab.kernel.invokeFunction('convertToInteractive',\n",
              "                                                    [key], {});\n",
              "        if (!dataTable) return;\n",
              "\n",
              "        const docLinkHtml = 'Like what you see? Visit the ' +\n",
              "          '<a target=\"_blank\" href=https://colab.research.google.com/notebooks/data_table.ipynb>data table notebook</a>'\n",
              "          + ' to learn more about interactive tables.';\n",
              "        element.innerHTML = '';\n",
              "        dataTable['output_type'] = 'display_data';\n",
              "        await google.colab.output.renderOutput(dataTable, element);\n",
              "        const docLink = document.createElement('div');\n",
              "        docLink.innerHTML = docLinkHtml;\n",
              "        element.appendChild(docLink);\n",
              "      }\n",
              "    </script>\n",
              "  </div>\n",
              "\n",
              "    </div>\n",
              "  </div>\n"
            ],
            "application/vnd.google.colaboratory.intrinsic+json": {
              "type": "dataframe",
              "variable_name": "the_dude",
              "summary": "{\n  \"name\": \"the_dude\",\n  \"rows\": 1,\n  \"fields\": [\n    {\n      \"column\": \"id\",\n      \"properties\": {\n        \"dtype\": \"number\",\n        \"std\": null,\n        \"min\": 453286,\n        \"max\": 453286,\n        \"num_unique_values\": 1,\n        \"samples\": [\n          453286\n        ],\n        \"semantic_type\": \"\",\n        \"description\": \"\"\n      }\n    },\n    {\n      \"column\": \"first_name\",\n      \"properties\": {\n        \"dtype\": \"string\",\n        \"num_unique_values\": 1,\n        \"samples\": [\n          \"Max\"\n        ],\n        \"semantic_type\": \"\",\n        \"description\": \"\"\n      }\n    },\n    {\n      \"column\": \"last_name\",\n      \"properties\": {\n        \"dtype\": \"string\",\n        \"num_unique_values\": 1,\n        \"samples\": [\n          \"Scherzer\"\n        ],\n        \"semantic_type\": \"\",\n        \"description\": \"\"\n      }\n    }\n  ]\n}"
            }
          },
          "metadata": {},
          "execution_count": 343
        }
      ]
    }
  ]
}